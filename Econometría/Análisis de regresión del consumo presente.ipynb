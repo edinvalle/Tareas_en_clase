{
 "cells": [
  {
   "cell_type": "markdown",
   "id": "fd99df59-80bf-4faf-ade6-936f70a40b71",
   "metadata": {},
   "source": [
    "<div style=\"font-size: 18px; text-align: justify;\">\r\n",
    "  <ul style=\"list-style-type:none; padding: 0; margin: 0;\">\r\n",
    "    <li>Universidad Rafael Landívar</li>\r\n",
    "    <li>Facultad de Ciencias Económicas y Empresariales</li>\r\n",
    "    <li>Edin Del Valle</li>\r\n",
    "    <li>Econometría II</li>\r\n",
    "  </ul>\r\n",
    "</div>\r\n"
   ]
  },
  {
   "cell_type": "markdown",
   "id": "c8549592-53ec-4c45-ac1a-ee9b61d351ed",
   "metadata": {},
   "source": [
    "<h1 style=\"text-align:center;\">Analisis Del Consumo Presente</h1>\n"
   ]
  },
  {
   "cell_type": "markdown",
   "id": "05e751d9-a06d-45f2-94d3-1c2038104558",
   "metadata": {},
   "source": [
    "<div style=\"font-size: 18px; text-align: justify;\">\r\n",
    "   <p>¿Por qué es importante aumentar las observacion?.  En el análisis de datos, uno de los factores más importantes de tomar en cuenta para obtener resultados robustos y confiables es el tamaño de la muestra u observaciones. En este caso, el ejemplo que se hizo en la clase fue realizado con 4 observaciones, en las cuales los resultados pueden ser engañosos y menos representativos.</p>\r\n",
    "\r\n",
    "   <p>Para que el modelo de regresión sea sólido y ofrezca resultados fiables, es crucial contar con un tamaño de muestra adecuado. En general, se recomienda al menos 32 observaciones, lo que mejora la precisión de las estimaciones y se incrementa el poder estadístico, permitiendo una mejor validación de los supuestos del modelo.</p>\r\n",
    "</div>\r\n"
   ]
  },
  {
   "cell_type": "code",
   "execution_count": 4,
   "id": "c8b37d39-9dc4-4bc6-8b18-2e38ed2603bb",
   "metadata": {
    "vscode": {
     "languageId": "r"
    }
   },
   "outputs": [
    {
     "data": {
      "text/plain": [
       "\n",
       "Call:\n",
       "lm(formula = C_t ~ C_t_minus_1 + Y_t, data = data)\n",
       "\n",
       "Residuals:\n",
       "    Min      1Q  Median      3Q     Max \n",
       "-3.2664 -0.7930  0.0852  1.0279  3.0919 \n",
       "\n",
       "Coefficients:\n",
       "            Estimate Std. Error t value Pr(>|t|)    \n",
       "(Intercept)  7.48001    0.85627   8.736 1.29e-09 ***\n",
       "C_t_minus_1  0.43761    0.08011   5.463 7.02e-06 ***\n",
       "Y_t          0.37708    0.05691   6.626 2.91e-07 ***\n",
       "---\n",
       "Signif. codes:  0 '***' 0.001 '**' 0.01 '*' 0.05 '.' 0.1 ' ' 1\n",
       "\n",
       "Residual standard error: 1.393 on 29 degrees of freedom\n",
       "Multiple R-squared:  0.9995,\tAdjusted R-squared:  0.9994 \n",
       "F-statistic: 2.782e+04 on 2 and 29 DF,  p-value: < 2.2e-16\n"
      ]
     },
     "metadata": {},
     "output_type": "display_data"
    }
   ],
   "source": [
    "# Paso 1: Definir los datos\n",
    "# Creando un data frame con los datos de consumo y ingreso disponible\n",
    "data <- data.frame(\n",
    "  t = 1:32,               # Tiempo (períodos)\n",
    "  C_t_minus_1 = c(100, 110, 115, 125, 120, 130, 135, 145, 150, 155, 160, 170, +\n",
    "                    175, 180, 190, 195, 200, 210, 215, 220, 230, 235, 240, 250, 255, +\n",
    "                    260, 270, 275, 280, 290, 295, 300),  # Consumo en el periodo anterior (C_{t-1})\n",
    "  \n",
    "  Y_t = c(150, 160, 170, 180, 175, 185, 190, 200, 210, 220, 225, +\n",
    "            235, 240, 250, 260, 270, 280, 290, 300, 310, 320, 330, 340, 350, 360, +\n",
    "            370, 380, 390, 400, 410, 420, 430),    # Ingreso disponible (Y_t)\n",
    "  \n",
    "  C_t = c(110, 115, 125, 130, 125, 135, 140, 145, 150, 155, 160, +\n",
    "            170, 175, 180, 190, 195, 200, 210, 215, 220, 230, 235, 240, 250, 255, +\n",
    "            260, 270, 275, 280, 290, 295, 300)      # Consumo actual (C_t)\n",
    ")\n",
    "\n",
    "# Paso 2: Estimar los parámetros (α y β) usando regresión lineal\n",
    "# Usamos lm() para realizar una regresión lineal: C_t ~ C_{t-1} + Y_t\n",
    "modelo <- lm(C_t ~ C_t_minus_1 + Y_t, data = data)\n",
    "\n",
    "# Ver los resultados de la regresión\n",
    "summary(modelo)"
   ]
  },
  {
   "cell_type": "markdown",
   "id": "cc61726e-4ee1-4338-aff0-8279d5bafb75",
   "metadata": {},
   "source": [
    "<div style=\"font-size: 18px; text-align: justify;\">\n",
    "\n",
    "**Intercept:** Una unidad adicional implica un efecto promedio de 7.48 unidades en el intercepto, aunque este no tiene mucho sentido debido a que representa un consumo autónomo o mínimo, que siempre será el mismo cuando las otras variables sean cero.\n",
    "\n",
    "</div>\n",
    "</div>\r\n"
   ]
  },
  {
   "cell_type": "markdown",
   "id": "7a5447b9-b6a2-4143-8315-2d16b1681ab0",
   "metadata": {},
   "source": [
    "<div style=\"font-size: 18px; text-align: justify;\">\n",
    "\n",
    "**C_t_minus_1:** Una unidad adicional en el consumo durante el periodo anterior, aumenta el consumo actual en promedio 0.43761 unidades.\n",
    "\n",
    "**Y_t:** Por cada unidad adicional el ingresos disponible, aumenta el consumo actual en promedio de 0.37708 unidades. \n",
    "</div>\n",
    "</div>\r\n"
   ]
  },
  {
   "cell_type": "markdown",
   "id": "0201064e-f64b-49a2-ae27-188f2eb8864b",
   "metadata": {},
   "source": [
    "<div style=\"font-size: 18px; text-align: justify;\">\n",
    "    \n",
    "**Std. Error y T Value:**\n",
    "1. **C_t_minus_1**: El error estándar de \\(C_t_{-1}\\) es 0.08011, lo que indica una buena precisión en la estimación de este coeficiente. El valor t es 5.463, lo que sugiere que es estadísticamente significativo.\n",
    "\n",
    "2. **Y_t**: El error estándar de \\(Y_t\\) es 0.05691. lo cual es relativamente pequeño en comparación con el coeficiente de estimación. Esto indica que la estimación de dicho coeficiente es bastante precisa y que el ajuste es confiable. \n",
    "\r\n",
    "</div>\n",
    "\n",
    "\n"
   ]
  },
  {
   "cell_type": "markdown",
   "id": "e87d9dbb-c9c7-459c-be2c-6d1436e035ba",
   "metadata": {},
   "source": [
    "<div style=\"font-size: 18px; text-align: justify;\">\n",
    "    \n",
    "- **P-value:** El p-value de cada coeficiente es menor a 0.05, lo que indica que cada uno es estadisticamente significativo. Es decir que las variables explicativas tiene un efecto real sobre el consumo actual y los resultados del modelo no debe al azar.\n",
    "\n",
    "</div>\n"
   ]
  },
  {
   "cell_type": "markdown",
   "id": "f79da087-c908-4498-a12e-245e2046d6b3",
   "metadata": {},
   "source": [
    "<div style=\"font-size: 18px; text-align: justify;\">\n",
    "\n",
    "El **residual standard error (RSE)** de 1.393 indica que, en promedio, las predicciones se desvían de los valores observados por 1.393 unidades. Un RSE bajo sugiere que el modelo ajusta bien los datos.\n",
    "\n",
    "</div>\n"
   ]
  },
  {
   "attachments": {},
   "cell_type": "markdown",
   "id": "efe15636-7ea0-489a-8f44-8ee3996930bd",
   "metadata": {},
   "source": [
    "<div style=\"font-size: 18px; text-align: justify;\">\n",
    "    \n",
    "El R-squared es **0.9995**, lo que esta cercano a 1, lo que nos da más fiabilidad para confiar en nuestro modelo. En muchos casos, el modelo siempre debe tener algún nivel de error residual, si nos diera un valor de 1, sería muy dificil que un modelo se ajuste perfectamente a la linea de regresión o a los datos reales. \n",
    "\n",
    "El **F-statistic 2.782e+04** es un valor muy alto sugiere que las variables independientes explican bien la variabilidad de la variable dependiente. \n",
    "\n",
    "La **p-value del F-statistic es < 2.2e-16.** Como es menor que el nivel de significancia (0.05), esto confirma que existe suficiente evidencia para rechazar la hipótesis nula, lo cual indica que el modelo tiene un efecto real.\r\n",
    "\n",
    "\n",
    "</div>"
   ]
  }
 ],
 "metadata": {
  "kernelspec": {
   "display_name": "R",
   "language": "R",
   "name": "ir"
  },
  "language_info": {
   "codemirror_mode": "r",
   "file_extension": ".r",
   "mimetype": "text/x-r-source",
   "name": "R",
   "pygments_lexer": "r",
   "version": "4.4.1"
  }
 },
 "nbformat": 4,
 "nbformat_minor": 5
}
